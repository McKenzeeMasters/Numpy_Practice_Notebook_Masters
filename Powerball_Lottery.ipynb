{
 "cells": [
  {
   "cell_type": "markdown",
   "id": "3a151a83",
   "metadata": {},
   "source": [
    "# Powerball Lottery \n",
    "## By: Jaden Wilkins, McKenzee Masters, Hannah Garrett"
   ]
  },
  {
   "cell_type": "code",
   "execution_count": 4,
   "id": "be09d867",
   "metadata": {},
   "outputs": [
    {
     "name": "stdout",
     "output_type": "stream",
     "text": [
      "Pay two dollars to play? (y/n)y\n"
     ]
    },
    {
     "ename": "NameError",
     "evalue": "name 'game' is not defined",
     "output_type": "error",
     "traceback": [
      "\u001b[1;31m---------------------------------------------------------------------------\u001b[0m",
      "\u001b[1;31mNameError\u001b[0m                                 Traceback (most recent call last)",
      "Input \u001b[1;32mIn [4]\u001b[0m, in \u001b[0;36m<cell line: 9>\u001b[1;34m()\u001b[0m\n\u001b[0;32m      9\u001b[0m \u001b[38;5;28;01mwhile\u001b[39;00m play_game: \n\u001b[0;32m     10\u001b[0m     pgame\u001b[38;5;241m=\u001b[39m\u001b[38;5;28minput\u001b[39m(\u001b[38;5;124m\"\u001b[39m\u001b[38;5;124mPay two dollars to play? (y/n)\u001b[39m\u001b[38;5;124m\"\u001b[39m)\n\u001b[1;32m---> 11\u001b[0m     \u001b[38;5;28;01mif\u001b[39;00m \u001b[43mgame\u001b[49m\u001b[38;5;241m==\u001b[39my:\n\u001b[0;32m     12\u001b[0m         powerball\u001b[38;5;241m=\u001b[39m\u001b[38;5;28;01mTrue\u001b[39;00m\n\u001b[0;32m     13\u001b[0m     \u001b[38;5;28;01melse\u001b[39;00m: \n",
      "\u001b[1;31mNameError\u001b[0m: name 'game' is not defined"
     ]
    }
   ],
   "source": [
    "import random\n",
    "play_game=True\n",
    "com_choice=[]\n",
    "com_powerball=[]    \n",
    "your_choice=[]\n",
    "your_powerball=[]\n",
    "        \n",
    "while powerball: \n",
    "    for com in range(1): \n",
    "        for choice in range(5):\n",
    "            x=random.randrange(1,70) \n",
    "            com_choice.append(x)\n",
    "        y=random.randrange(1,27)\n",
    "    com_powerball.append(y)\n",
    "    \n",
    "    for you in range(1):\n",
    "        for choice in range(5):\n",
    "            z=int(input(\"Enter a number 1-69: \"))\n",
    "            your_choice.append(z)\n",
    "        t=int(input(\"Enter a number 1-26: \"))\n",
    "        your_powerball.append(t)\n",
    "        \n",
    "    if com_choice==your_choice and com_powerball==your_powerball:\n",
    "        print(f\"You're numbers: {your_choice}{your_powerball} \\nPowerball Numbers: {com_choice}{com_powerball} \\nYOU WON THE POWERBALL LOTTERY!!! \\nYOU'VE WON: 1 Million Dollars!\")\n",
    "    elif com_powerball==your_powerball and com_choice!=your_choice: \n",
    "        print(f\"You're numbers: {your_choice}{your_powerball} \\nPowerball Numbers: {com_choice}{com_powerball} \\nYOU WON THE POWERBALL Number!!! \\nYOU'VE WON: 4 Dollars!\")\n",
    "    elif com_choice==your_choice and com_powerball!=your_powerball:\n",
    "        print(f\"You're numbers: {your_choice}{your_powerball} \\nPowerball Numbers: {com_choice}{com_powerball} \\nYOU WON THE POWERBALL White Ball Numbers!!! \\nYOU'VE WON: 10 Dollars\")\n",
    "    else:\n",
    "        print(f\"You're numbers: {your_choice}{your_powerball} \\nPowerball Numbers: {com_choice}{com_powerball} \\nYOU LOST!!!\")\n",
    "    repeat= input(\"Would you like to play again? (y/n) \")\n",
    "    if repeat=='n':\n",
    "        powerball=False\n",
    "    else:\n",
    "        for t in range(1): \n",
    "            for l in range(5):\n",
    "                del com_choice[0]\n",
    "            del com_powerball[0]\n",
    "        for k in range(1): \n",
    "            for w in range(5):\n",
    "                del your_choice[0]\n",
    "            del your_powerball[0]\n",
    "    \n",
    "        powerball=True\n",
    "        print(\"Pay 2 Dollars\")\n",
    "        print(\"-----------------------------------------------------------------------------------\")\n"
   ]
  },
  {
   "cell_type": "code",
   "execution_count": null,
   "id": "3ef20050",
   "metadata": {},
   "outputs": [],
   "source": []
  }
 ],
 "metadata": {
  "kernelspec": {
   "display_name": "Python 3 (ipykernel)",
   "language": "python",
   "name": "python3"
  },
  "language_info": {
   "codemirror_mode": {
    "name": "ipython",
    "version": 3
   },
   "file_extension": ".py",
   "mimetype": "text/x-python",
   "name": "python",
   "nbconvert_exporter": "python",
   "pygments_lexer": "ipython3",
   "version": "3.9.12"
  }
 },
 "nbformat": 4,
 "nbformat_minor": 5
}
